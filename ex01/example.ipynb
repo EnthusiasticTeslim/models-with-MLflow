{
 "cells": [
  {
   "cell_type": "code",
   "execution_count": 10,
   "id": "initial_id",
   "metadata": {
    "ExecuteTime": {
     "end_time": "2024-04-23T02:30:58.309430Z",
     "start_time": "2024-04-23T02:30:57.416342Z"
    },
    "collapsed": true
   },
   "outputs": [],
   "source": [
    "import mlflow"
   ]
  },
  {
   "cell_type": "code",
   "execution_count": 11,
   "id": "9411b9f92ea60bb5",
   "metadata": {
    "ExecuteTime": {
     "end_time": "2024-04-23T02:31:10.228223Z",
     "start_time": "2024-04-23T02:31:10.210287Z"
    }
   },
   "outputs": [],
   "source": [
    "mlflow.set_tracking_uri(uri=\"http://127.0.0.1:8080\")"
   ]
  },
  {
   "cell_type": "markdown",
   "id": "2c91b3f883c6cf25",
   "metadata": {},
   "source": [
    "Normal run"
   ]
  },
  {
   "cell_type": "code",
   "execution_count": 12,
   "id": "f797eab9e8025e03",
   "metadata": {
    "ExecuteTime": {
     "end_time": "2024-04-23T02:31:55.890991Z",
     "start_time": "2024-04-23T02:31:54.854649Z"
    }
   },
   "outputs": [],
   "source": [
    "import mlflow\n",
    "from mlflow.models import infer_signature\n",
    "\n",
    "import pandas as pd\n",
    "from sklearn import datasets\n",
    "from sklearn.model_selection import train_test_split\n",
    "from sklearn.linear_model import LogisticRegression\n",
    "from sklearn.metrics import accuracy_score, precision_score, recall_score, f1_score\n",
    "\n",
    "# Load the Iris dataset\n",
    "X, y = datasets.load_iris(return_X_y=True)\n",
    "\n",
    "# Split the data into training and test sets\n",
    "X_train, X_test, y_train, y_test = train_test_split(\n",
    "    X, y, test_size=0.2, random_state=42)\n",
    "\n",
    "# Define the model hyperparameters\n",
    "params = {\n",
    "    \"solver\": \"lbfgs\",\n",
    "    \"max_iter\": 1000,\n",
    "    \"multi_class\": \"auto\",\n",
    "    \"random_state\": 8888}\n",
    "\n",
    "# Train the model\n",
    "lr = LogisticRegression(**params)\n",
    "lr.fit(X_train, y_train)\n",
    "\n",
    "# Predict on the test set\n",
    "y_pred = lr.predict(X_test)\n",
    "\n",
    "# Calculate metrics\n",
    "accuracy = accuracy_score(y_test, y_pred)\n"
   ]
  },
  {
   "cell_type": "code",
   "execution_count": 13,
   "id": "f49fa4e6f779dabb",
   "metadata": {
    "ExecuteTime": {
     "end_time": "2024-04-23T02:31:59.904873Z",
     "start_time": "2024-04-23T02:31:59.900415Z"
    }
   },
   "outputs": [
    {
     "data": {
      "text/plain": [
       "1.0"
      ]
     },
     "execution_count": 13,
     "metadata": {},
     "output_type": "execute_result"
    }
   ],
   "source": [
    "accuracy"
   ]
  },
  {
   "cell_type": "markdown",
   "id": "10d44a13d91c9194",
   "metadata": {},
   "source": [
    "# mlflow"
   ]
  },
  {
   "cell_type": "code",
   "execution_count": 14,
   "id": "b2453f5ea4c1f146",
   "metadata": {
    "ExecuteTime": {
     "end_time": "2024-04-23T02:34:01.136321Z",
     "start_time": "2024-04-23T02:33:58.187549Z"
    }
   },
   "outputs": [
    {
     "name": "stderr",
     "output_type": "stream",
     "text": [
      "/Users/gbemidebe/miniconda3/envs/MatML/lib/python3.8/site-packages/_distutils_hack/__init__.py:18: UserWarning: Distutils was imported before Setuptools, but importing Setuptools also replaces the `distutils` module in `sys.modules`. This may lead to undesirable behaviors or errors. To avoid these issues, avoid using distutils directly, ensure that setuptools is installed in the traditional way (e.g. not an editable install), and/or make sure that setuptools is always imported before distutils.\n",
      "  warnings.warn(\n",
      "/Users/gbemidebe/miniconda3/envs/MatML/lib/python3.8/site-packages/_distutils_hack/__init__.py:33: UserWarning: Setuptools is replacing distutils.\n",
      "  warnings.warn(\"Setuptools is replacing distutils.\")\n",
      "Registered model 'tracking-quickstart' already exists. Creating a new version of this model...\n",
      "2024/04/22 21:57:19 INFO mlflow.store.model_registry.abstract_store: Waiting up to 300 seconds for model version to finish creation. Model name: tracking-quickstart, version 3\n",
      "Created version '3' of model 'tracking-quickstart'.\n"
     ]
    }
   ],
   "source": [
    "# Set our tracking server uri for logging\n",
    "mlflow.set_tracking_uri(uri=\"http://127.0.0.1:8080\")\n",
    "\n",
    "# Create a new MLflow Experiment\n",
    "mlflow.set_experiment(\"MLflow Quickstart\")\n",
    "\n",
    "# Start an MLflow run\n",
    "with mlflow.start_run():\n",
    "    # Log the hyperparameters\n",
    "    mlflow.log_params(params)\n",
    "\n",
    "    # Log the loss metric\n",
    "    mlflow.log_metric(\"accuracy\", accuracy)\n",
    "\n",
    "    # Set a tag that we can use to remind ourselves what this run was for\n",
    "    mlflow.set_tag(\"Training Info\", \"Basic LR model for iris data\")\n",
    "\n",
    "    # Infer the model signature\n",
    "    signature = infer_signature(X_train, lr.predict(X_train))\n",
    "\n",
    "    # Log the model\n",
    "    model_info = mlflow.sklearn.log_model(\n",
    "        sk_model=lr,\n",
    "        artifact_path=\"iris_model\",\n",
    "        signature=signature,\n",
    "        input_example=X_train,\n",
    "        registered_model_name=\"tracking-quickstart\",\n",
    "    )\n"
   ]
  },
  {
   "cell_type": "markdown",
   "id": "539e5f7fe39a59d5",
   "metadata": {},
   "source": [
    "# Test code"
   ]
  },
  {
   "cell_type": "code",
   "execution_count": 15,
   "id": "ab0e7437c661baaf",
   "metadata": {
    "ExecuteTime": {
     "end_time": "2024-04-23T02:41:44.892921Z",
     "start_time": "2024-04-23T02:41:44.862855Z"
    }
   },
   "outputs": [
    {
     "data": {
      "text/plain": [
       "<mlflow.models.model.ModelInfo at 0x2b13cecd0>"
      ]
     },
     "execution_count": 15,
     "metadata": {},
     "output_type": "execute_result"
    }
   ],
   "source": [
    "model_info"
   ]
  },
  {
   "cell_type": "code",
   "execution_count": 16,
   "id": "dc7dd624c9a93f9a",
   "metadata": {
    "ExecuteTime": {
     "end_time": "2024-04-23T02:41:53.882919Z",
     "start_time": "2024-04-23T02:41:53.875510Z"
    }
   },
   "outputs": [
    {
     "data": {
      "text/plain": [
       "'runs:/76b97f144c9d43068eb7b36abd7d388a/iris_model'"
      ]
     },
     "execution_count": 16,
     "metadata": {},
     "output_type": "execute_result"
    }
   ],
   "source": [
    "model_info.model_uri"
   ]
  },
  {
   "cell_type": "code",
   "execution_count": 17,
   "id": "51643fbb88a2b58f",
   "metadata": {
    "ExecuteTime": {
     "end_time": "2024-04-23T02:42:12.953758Z",
     "start_time": "2024-04-23T02:42:12.517860Z"
    }
   },
   "outputs": [
    {
     "data": {
      "application/vnd.jupyter.widget-view+json": {
       "model_id": "33d504b4df8a478681e1d5afa840ea5f",
       "version_major": 2,
       "version_minor": 0
      },
      "text/plain": [
       "Downloading artifacts:   0%|          | 0/10 [00:00<?, ?it/s]"
      ]
     },
     "metadata": {},
     "output_type": "display_data"
    },
    {
     "name": "stderr",
     "output_type": "stream",
     "text": [
      "2024/04/22 21:57:19 INFO mlflow.store.artifact.artifact_repo: The progress bar can be disabled by setting the environment variable MLFLOW_ENABLE_ARTIFACTS_PROGRESS_BAR to false\n"
     ]
    },
    {
     "ename": "MlflowException",
     "evalue": "The following failures occurred while downloading one or more artifacts from http://127.0.0.1:8080/api/2.0/mlflow-artifacts/artifacts/184940967581518969/76b97f144c9d43068eb7b36abd7d388a/artifacts:\n##### File iris_model/requirements.txt #####\nAPI request to http://127.0.0.1:8080/api/2.0/mlflow-artifacts/artifacts/184940967581518969/76b97f144c9d43068eb7b36abd7d388a/artifacts/iris_model/requirements.txt failed with exception HTTPConnectionPool(host='127.0.0.1', port=8080): Max retries exceeded with url: /api/2.0/mlflow-artifacts/artifacts/184940967581518969/76b97f144c9d43068eb7b36abd7d388a/artifacts/iris_model/requirements.txt (Caused by ResponseError('too many 500 error responses'))\n##### File iris_model/input_example.json #####\nAPI request to http://127.0.0.1:8080/api/2.0/mlflow-artifacts/artifacts/184940967581518969/76b97f144c9d43068eb7b36abd7d388a/artifacts/iris_model/input_example.json failed with exception HTTPConnectionPool(host='127.0.0.1', port=8080): Max retries exceeded with url: /api/2.0/mlflow-artifacts/artifacts/184940967581518969/76b97f144c9d43068eb7b36abd7d388a/artifacts/iris_model/input_example.json (Caused by ResponseError('too many 500 error responses'))\n##### File iris_model/metadata/python_env.yaml #####\nAPI request to http://127.0.0.1:8080/api/2.0/mlflow-artifacts/artifacts/184940967581518969/76b97f144c9d43068eb7b36abd7d388a/artifacts/iris_model/metadata/python_env.yaml failed with exception HTTPConnectionPool(host='127.0.0.1', port=8080): Max retries exceeded with url: /api/2.0/mlflow-artifacts/artifacts/184940967581518969/76b97f144c9d43068eb7b36abd7d388a/artifacts/iris_model/metadata/python_env.yaml (Caused by ResponseError('too many 500 error responses'))\n##### File iris_model/metadata/MLmodel #####\nAPI request to http://127.0.0.1:8080/api/2.0/mlflow-artifacts/artifacts/184940967581518969/76b97f144c9d43068eb7b36abd7d388a/artifacts/iris_model/metadata/MLmodel failed with exception HTTPConnectionPool(host='127.0.0.1', port=8080): Max retries exceeded with url: /api/2.0/mlflow-artifacts/artifacts/184940967581518969/76b97f144c9d43068eb7b36abd7d388a/artifacts/iris_model/metadata/MLmodel (Caused by ResponseError('too many 500 error responses'))\n##### File iris_model/conda.yaml #####\nAPI request to http://127.0.0.1:8080/api/2.0/mlflow-artifacts/artifacts/184940967581518969/76b97f144c9d43068eb7b36abd7d388a/artifacts/iris_model/conda.yaml failed with exception HTTPConnectionPool(host='127.0.0.1', port=8080): Max retries exceeded with url: /api/2.0/mlflow-artifacts/artifacts/184940967581518969/76b97f144c9d43068eb7b36abd7d388a/artifacts/iris_model/conda.yaml (Caused by ResponseError('too many 500 error responses'))\n##### File iris_model/metadata/requirements.txt #####\nAPI request to http://127.0.0.1:8080/api/2.0/mlflow-artifacts/artifacts/184940967581518969/76b97f144c9d43068eb7b36abd7d388a/artifacts/iris_model/metadata/requirements.txt failed with exception HTTPConnectionPool(host='127.0.0.1', port=8080): Max retries exceeded with url: /api/2.0/mlflow-artifacts/artifacts/184940967581518969/76b97f144c9d43068eb7b36abd7d388a/artifacts/iris_model/metadata/requirements.txt (Caused by ResponseError('too many 500 error responses'))\n##### File iris_model/python_env.yaml #####\nAPI request to http://127.0.0.1:8080/api/2.0/mlflow-artifacts/artifacts/184940967581518969/76b97f144c9d43068eb7b36abd7d388a/artifacts/iris_model/python_env.yaml failed with exception HTTPConnectionPool(host='127.0.0.1', port=8080): Max retries exceeded with url: /api/2.0/mlflow-artifacts/artifacts/184940967581518969/76b97f144c9d43068eb7b36abd7d388a/artifacts/iris_model/python_env.yaml (Caused by ResponseError('too many 500 error responses'))\n##### File iris_model/MLmodel #####\nAPI request to http://127.0.0.1:8080/api/2.0/mlflow-artifacts/artifacts/184940967581518969/76b97f144c9d43068eb7b36abd7d388a/artifacts/iris_model/MLmodel failed with exception HTTPConnectionPool(host='127.0.0.1', port=8080): Max retries exceeded with url: /api/2.0/mlflow-artifacts/artifacts/184940967581518969/76b97f144c9d43068eb7b36abd7d388a/artifacts/iris_model/MLmodel (Caused by ResponseError('too many 500 error responses'))\n##### File iris_model/model.pkl #####\nAPI request to http://127.0.0.1:8080/api/2.0/mlflow-artifacts/artifacts/184940967581518969/76b97f144c9d43068eb7b36abd7d388a/artifacts/iris_model/model.pkl failed with exception HTTPConnectionPool(host='127.0.0.1', port=8080): Max retries exceeded with url: /api/2.0/mlflow-artifacts/artifacts/184940967581518969/76b97f144c9d43068eb7b36abd7d388a/artifacts/iris_model/model.pkl (Caused by ResponseError('too many 500 error responses'))\n##### File iris_model/metadata/conda.yaml #####\nAPI request to http://127.0.0.1:8080/api/2.0/mlflow-artifacts/artifacts/184940967581518969/76b97f144c9d43068eb7b36abd7d388a/artifacts/iris_model/metadata/conda.yaml failed with exception HTTPConnectionPool(host='127.0.0.1', port=8080): Max retries exceeded with url: /api/2.0/mlflow-artifacts/artifacts/184940967581518969/76b97f144c9d43068eb7b36abd7d388a/artifacts/iris_model/metadata/conda.yaml (Caused by ResponseError('too many 500 error responses'))",
     "output_type": "error",
     "traceback": [
      "\u001b[0;31m---------------------------------------------------------------------------\u001b[0m",
      "\u001b[0;31mMlflowException\u001b[0m                           Traceback (most recent call last)",
      "Cell \u001b[0;32mIn[17], line 2\u001b[0m\n\u001b[1;32m      1\u001b[0m \u001b[38;5;66;03m# Load the model back for predictions as a generic Python Function model\u001b[39;00m\n\u001b[0;32m----> 2\u001b[0m loaded_model \u001b[38;5;241m=\u001b[39m \u001b[43mmlflow\u001b[49m\u001b[38;5;241;43m.\u001b[39;49m\u001b[43mpyfunc\u001b[49m\u001b[38;5;241;43m.\u001b[39;49m\u001b[43mload_model\u001b[49m\u001b[43m(\u001b[49m\u001b[43mmodel_info\u001b[49m\u001b[38;5;241;43m.\u001b[39;49m\u001b[43mmodel_uri\u001b[49m\u001b[43m)\u001b[49m\n\u001b[1;32m      4\u001b[0m predictions \u001b[38;5;241m=\u001b[39m loaded_model\u001b[38;5;241m.\u001b[39mpredict(X_test)\n\u001b[1;32m      6\u001b[0m iris_feature_names \u001b[38;5;241m=\u001b[39m datasets\u001b[38;5;241m.\u001b[39mload_iris()\u001b[38;5;241m.\u001b[39mfeature_names\n",
      "File \u001b[0;32m~/miniconda3/envs/MatML/lib/python3.8/site-packages/mlflow/pyfunc/__init__.py:864\u001b[0m, in \u001b[0;36mload_model\u001b[0;34m(model_uri, suppress_warnings, dst_path, model_config)\u001b[0m\n\u001b[1;32m    829\u001b[0m \u001b[38;5;28;01mdef\u001b[39;00m \u001b[38;5;21mload_model\u001b[39m(\n\u001b[1;32m    830\u001b[0m     model_uri: \u001b[38;5;28mstr\u001b[39m,\n\u001b[1;32m    831\u001b[0m     suppress_warnings: \u001b[38;5;28mbool\u001b[39m \u001b[38;5;241m=\u001b[39m \u001b[38;5;28;01mFalse\u001b[39;00m,\n\u001b[1;32m    832\u001b[0m     dst_path: Optional[\u001b[38;5;28mstr\u001b[39m] \u001b[38;5;241m=\u001b[39m \u001b[38;5;28;01mNone\u001b[39;00m,\n\u001b[1;32m    833\u001b[0m     model_config: Optional[Dict[\u001b[38;5;28mstr\u001b[39m, Any]] \u001b[38;5;241m=\u001b[39m \u001b[38;5;28;01mNone\u001b[39;00m,\n\u001b[1;32m    834\u001b[0m ) \u001b[38;5;241m-\u001b[39m\u001b[38;5;241m>\u001b[39m PyFuncModel:\n\u001b[1;32m    835\u001b[0m \u001b[38;5;250m    \u001b[39m\u001b[38;5;124;03m\"\"\"\u001b[39;00m\n\u001b[1;32m    836\u001b[0m \u001b[38;5;124;03m    Load a model stored in Python function format.\u001b[39;00m\n\u001b[1;32m    837\u001b[0m \n\u001b[0;32m   (...)\u001b[0m\n\u001b[1;32m    862\u001b[0m \u001b[38;5;124;03m                release without warning.\u001b[39;00m\n\u001b[1;32m    863\u001b[0m \u001b[38;5;124;03m    \"\"\"\u001b[39;00m\n\u001b[0;32m--> 864\u001b[0m     local_path \u001b[38;5;241m=\u001b[39m \u001b[43m_download_artifact_from_uri\u001b[49m\u001b[43m(\u001b[49m\u001b[43martifact_uri\u001b[49m\u001b[38;5;241;43m=\u001b[39;49m\u001b[43mmodel_uri\u001b[49m\u001b[43m,\u001b[49m\u001b[43m \u001b[49m\u001b[43moutput_path\u001b[49m\u001b[38;5;241;43m=\u001b[39;49m\u001b[43mdst_path\u001b[49m\u001b[43m)\u001b[49m\n\u001b[1;32m    866\u001b[0m     \u001b[38;5;28;01mif\u001b[39;00m \u001b[38;5;129;01mnot\u001b[39;00m suppress_warnings:\n\u001b[1;32m    867\u001b[0m         model_requirements \u001b[38;5;241m=\u001b[39m _get_pip_requirements_from_model_path(local_path)\n",
      "File \u001b[0;32m~/miniconda3/envs/MatML/lib/python3.8/site-packages/mlflow/tracking/artifact_utils.py:106\u001b[0m, in \u001b[0;36m_download_artifact_from_uri\u001b[0;34m(artifact_uri, output_path)\u001b[0m\n\u001b[1;32m     99\u001b[0m \u001b[38;5;250m\u001b[39m\u001b[38;5;124;03m\"\"\"\u001b[39;00m\n\u001b[1;32m    100\u001b[0m \u001b[38;5;124;03mArgs:\u001b[39;00m\n\u001b[1;32m    101\u001b[0m \u001b[38;5;124;03m    artifact_uri: The *absolute* URI of the artifact to download.\u001b[39;00m\n\u001b[1;32m    102\u001b[0m \u001b[38;5;124;03m    output_path: The local filesystem path to which to download the artifact. If unspecified,\u001b[39;00m\n\u001b[1;32m    103\u001b[0m \u001b[38;5;124;03m        a local output path will be created.\u001b[39;00m\n\u001b[1;32m    104\u001b[0m \u001b[38;5;124;03m\"\"\"\u001b[39;00m\n\u001b[1;32m    105\u001b[0m root_uri, artifact_path \u001b[38;5;241m=\u001b[39m _get_root_uri_and_artifact_path(artifact_uri)\n\u001b[0;32m--> 106\u001b[0m \u001b[38;5;28;01mreturn\u001b[39;00m \u001b[43mget_artifact_repository\u001b[49m\u001b[43m(\u001b[49m\u001b[43martifact_uri\u001b[49m\u001b[38;5;241;43m=\u001b[39;49m\u001b[43mroot_uri\u001b[49m\u001b[43m)\u001b[49m\u001b[38;5;241;43m.\u001b[39;49m\u001b[43mdownload_artifacts\u001b[49m\u001b[43m(\u001b[49m\n\u001b[1;32m    107\u001b[0m \u001b[43m    \u001b[49m\u001b[43martifact_path\u001b[49m\u001b[38;5;241;43m=\u001b[39;49m\u001b[43martifact_path\u001b[49m\u001b[43m,\u001b[49m\u001b[43m \u001b[49m\u001b[43mdst_path\u001b[49m\u001b[38;5;241;43m=\u001b[39;49m\u001b[43moutput_path\u001b[49m\n\u001b[1;32m    108\u001b[0m \u001b[43m\u001b[49m\u001b[43m)\u001b[49m\n",
      "File \u001b[0;32m~/miniconda3/envs/MatML/lib/python3.8/site-packages/mlflow/store/artifact/runs_artifact_repo.py:131\u001b[0m, in \u001b[0;36mRunsArtifactRepository.download_artifacts\u001b[0;34m(self, artifact_path, dst_path)\u001b[0m\n\u001b[1;32m    114\u001b[0m \u001b[38;5;28;01mdef\u001b[39;00m \u001b[38;5;21mdownload_artifacts\u001b[39m(\u001b[38;5;28mself\u001b[39m, artifact_path, dst_path\u001b[38;5;241m=\u001b[39m\u001b[38;5;28;01mNone\u001b[39;00m):\n\u001b[1;32m    115\u001b[0m \u001b[38;5;250m    \u001b[39m\u001b[38;5;124;03m\"\"\"\u001b[39;00m\n\u001b[1;32m    116\u001b[0m \u001b[38;5;124;03m    Download an artifact file or directory to a local directory if applicable, and return a\u001b[39;00m\n\u001b[1;32m    117\u001b[0m \u001b[38;5;124;03m    local path for it.\u001b[39;00m\n\u001b[0;32m   (...)\u001b[0m\n\u001b[1;32m    129\u001b[0m \u001b[38;5;124;03m        Absolute path of the local filesystem location containing the desired artifacts.\u001b[39;00m\n\u001b[1;32m    130\u001b[0m \u001b[38;5;124;03m    \"\"\"\u001b[39;00m\n\u001b[0;32m--> 131\u001b[0m     \u001b[38;5;28;01mreturn\u001b[39;00m \u001b[38;5;28;43mself\u001b[39;49m\u001b[38;5;241;43m.\u001b[39;49m\u001b[43mrepo\u001b[49m\u001b[38;5;241;43m.\u001b[39;49m\u001b[43mdownload_artifacts\u001b[49m\u001b[43m(\u001b[49m\u001b[43martifact_path\u001b[49m\u001b[43m,\u001b[49m\u001b[43m \u001b[49m\u001b[43mdst_path\u001b[49m\u001b[43m)\u001b[49m\n",
      "File \u001b[0;32m~/miniconda3/envs/MatML/lib/python3.8/site-packages/mlflow/store/artifact/artifact_repo.py:230\u001b[0m, in \u001b[0;36mArtifactRepository.download_artifacts\u001b[0;34m(self, artifact_path, dst_path)\u001b[0m\n\u001b[1;32m    226\u001b[0m     template \u001b[38;5;241m=\u001b[39m \u001b[38;5;124m\"\u001b[39m\u001b[38;5;124m##### File \u001b[39m\u001b[38;5;132;01m{path}\u001b[39;00m\u001b[38;5;124m #####\u001b[39m\u001b[38;5;130;01m\\n\u001b[39;00m\u001b[38;5;132;01m{error}\u001b[39;00m\u001b[38;5;124m\"\u001b[39m\n\u001b[1;32m    227\u001b[0m     failures \u001b[38;5;241m=\u001b[39m \u001b[38;5;124m\"\u001b[39m\u001b[38;5;130;01m\\n\u001b[39;00m\u001b[38;5;124m\"\u001b[39m\u001b[38;5;241m.\u001b[39mjoin(\n\u001b[1;32m    228\u001b[0m         template\u001b[38;5;241m.\u001b[39mformat(path\u001b[38;5;241m=\u001b[39mpath, error\u001b[38;5;241m=\u001b[39merror) \u001b[38;5;28;01mfor\u001b[39;00m path, error \u001b[38;5;129;01min\u001b[39;00m failed_downloads\u001b[38;5;241m.\u001b[39mitems()\n\u001b[1;32m    229\u001b[0m     )\n\u001b[0;32m--> 230\u001b[0m     \u001b[38;5;28;01mraise\u001b[39;00m MlflowException(\n\u001b[1;32m    231\u001b[0m         message\u001b[38;5;241m=\u001b[39m(\n\u001b[1;32m    232\u001b[0m             \u001b[38;5;124m\"\u001b[39m\u001b[38;5;124mThe following failures occurred while downloading one or more\u001b[39m\u001b[38;5;124m\"\u001b[39m\n\u001b[1;32m    233\u001b[0m             \u001b[38;5;124mf\u001b[39m\u001b[38;5;124m\"\u001b[39m\u001b[38;5;124m artifacts from \u001b[39m\u001b[38;5;132;01m{\u001b[39;00m\u001b[38;5;28mself\u001b[39m\u001b[38;5;241m.\u001b[39martifact_uri\u001b[38;5;132;01m}\u001b[39;00m\u001b[38;5;124m:\u001b[39m\u001b[38;5;130;01m\\n\u001b[39;00m\u001b[38;5;132;01m{\u001b[39;00m_truncate_error(failures)\u001b[38;5;132;01m}\u001b[39;00m\u001b[38;5;124m\"\u001b[39m\n\u001b[1;32m    234\u001b[0m         )\n\u001b[1;32m    235\u001b[0m     )\n\u001b[1;32m    237\u001b[0m \u001b[38;5;28;01mreturn\u001b[39;00m os\u001b[38;5;241m.\u001b[39mpath\u001b[38;5;241m.\u001b[39mjoin(dst_path, artifact_path)\n",
      "\u001b[0;31mMlflowException\u001b[0m: The following failures occurred while downloading one or more artifacts from http://127.0.0.1:8080/api/2.0/mlflow-artifacts/artifacts/184940967581518969/76b97f144c9d43068eb7b36abd7d388a/artifacts:\n##### File iris_model/requirements.txt #####\nAPI request to http://127.0.0.1:8080/api/2.0/mlflow-artifacts/artifacts/184940967581518969/76b97f144c9d43068eb7b36abd7d388a/artifacts/iris_model/requirements.txt failed with exception HTTPConnectionPool(host='127.0.0.1', port=8080): Max retries exceeded with url: /api/2.0/mlflow-artifacts/artifacts/184940967581518969/76b97f144c9d43068eb7b36abd7d388a/artifacts/iris_model/requirements.txt (Caused by ResponseError('too many 500 error responses'))\n##### File iris_model/input_example.json #####\nAPI request to http://127.0.0.1:8080/api/2.0/mlflow-artifacts/artifacts/184940967581518969/76b97f144c9d43068eb7b36abd7d388a/artifacts/iris_model/input_example.json failed with exception HTTPConnectionPool(host='127.0.0.1', port=8080): Max retries exceeded with url: /api/2.0/mlflow-artifacts/artifacts/184940967581518969/76b97f144c9d43068eb7b36abd7d388a/artifacts/iris_model/input_example.json (Caused by ResponseError('too many 500 error responses'))\n##### File iris_model/metadata/python_env.yaml #####\nAPI request to http://127.0.0.1:8080/api/2.0/mlflow-artifacts/artifacts/184940967581518969/76b97f144c9d43068eb7b36abd7d388a/artifacts/iris_model/metadata/python_env.yaml failed with exception HTTPConnectionPool(host='127.0.0.1', port=8080): Max retries exceeded with url: /api/2.0/mlflow-artifacts/artifacts/184940967581518969/76b97f144c9d43068eb7b36abd7d388a/artifacts/iris_model/metadata/python_env.yaml (Caused by ResponseError('too many 500 error responses'))\n##### File iris_model/metadata/MLmodel #####\nAPI request to http://127.0.0.1:8080/api/2.0/mlflow-artifacts/artifacts/184940967581518969/76b97f144c9d43068eb7b36abd7d388a/artifacts/iris_model/metadata/MLmodel failed with exception HTTPConnectionPool(host='127.0.0.1', port=8080): Max retries exceeded with url: /api/2.0/mlflow-artifacts/artifacts/184940967581518969/76b97f144c9d43068eb7b36abd7d388a/artifacts/iris_model/metadata/MLmodel (Caused by ResponseError('too many 500 error responses'))\n##### File iris_model/conda.yaml #####\nAPI request to http://127.0.0.1:8080/api/2.0/mlflow-artifacts/artifacts/184940967581518969/76b97f144c9d43068eb7b36abd7d388a/artifacts/iris_model/conda.yaml failed with exception HTTPConnectionPool(host='127.0.0.1', port=8080): Max retries exceeded with url: /api/2.0/mlflow-artifacts/artifacts/184940967581518969/76b97f144c9d43068eb7b36abd7d388a/artifacts/iris_model/conda.yaml (Caused by ResponseError('too many 500 error responses'))\n##### File iris_model/metadata/requirements.txt #####\nAPI request to http://127.0.0.1:8080/api/2.0/mlflow-artifacts/artifacts/184940967581518969/76b97f144c9d43068eb7b36abd7d388a/artifacts/iris_model/metadata/requirements.txt failed with exception HTTPConnectionPool(host='127.0.0.1', port=8080): Max retries exceeded with url: /api/2.0/mlflow-artifacts/artifacts/184940967581518969/76b97f144c9d43068eb7b36abd7d388a/artifacts/iris_model/metadata/requirements.txt (Caused by ResponseError('too many 500 error responses'))\n##### File iris_model/python_env.yaml #####\nAPI request to http://127.0.0.1:8080/api/2.0/mlflow-artifacts/artifacts/184940967581518969/76b97f144c9d43068eb7b36abd7d388a/artifacts/iris_model/python_env.yaml failed with exception HTTPConnectionPool(host='127.0.0.1', port=8080): Max retries exceeded with url: /api/2.0/mlflow-artifacts/artifacts/184940967581518969/76b97f144c9d43068eb7b36abd7d388a/artifacts/iris_model/python_env.yaml (Caused by ResponseError('too many 500 error responses'))\n##### File iris_model/MLmodel #####\nAPI request to http://127.0.0.1:8080/api/2.0/mlflow-artifacts/artifacts/184940967581518969/76b97f144c9d43068eb7b36abd7d388a/artifacts/iris_model/MLmodel failed with exception HTTPConnectionPool(host='127.0.0.1', port=8080): Max retries exceeded with url: /api/2.0/mlflow-artifacts/artifacts/184940967581518969/76b97f144c9d43068eb7b36abd7d388a/artifacts/iris_model/MLmodel (Caused by ResponseError('too many 500 error responses'))\n##### File iris_model/model.pkl #####\nAPI request to http://127.0.0.1:8080/api/2.0/mlflow-artifacts/artifacts/184940967581518969/76b97f144c9d43068eb7b36abd7d388a/artifacts/iris_model/model.pkl failed with exception HTTPConnectionPool(host='127.0.0.1', port=8080): Max retries exceeded with url: /api/2.0/mlflow-artifacts/artifacts/184940967581518969/76b97f144c9d43068eb7b36abd7d388a/artifacts/iris_model/model.pkl (Caused by ResponseError('too many 500 error responses'))\n##### File iris_model/metadata/conda.yaml #####\nAPI request to http://127.0.0.1:8080/api/2.0/mlflow-artifacts/artifacts/184940967581518969/76b97f144c9d43068eb7b36abd7d388a/artifacts/iris_model/metadata/conda.yaml failed with exception HTTPConnectionPool(host='127.0.0.1', port=8080): Max retries exceeded with url: /api/2.0/mlflow-artifacts/artifacts/184940967581518969/76b97f144c9d43068eb7b36abd7d388a/artifacts/iris_model/metadata/conda.yaml (Caused by ResponseError('too many 500 error responses'))"
     ]
    }
   ],
   "source": [
    "# Load the model back for predictions as a generic Python Function model\n",
    "loaded_model = mlflow.pyfunc.load_model(model_info.model_uri)\n",
    "\n",
    "predictions = loaded_model.predict(X_test)\n",
    "\n",
    "iris_feature_names = datasets.load_iris().feature_names\n",
    "\n",
    "result = pd.DataFrame(X_test, columns=iris_feature_names)\n",
    "result[\"actual_class\"] = y_test\n",
    "result[\"predicted_class\"] = predictions\n",
    "\n",
    "result[:4]\n"
   ]
  },
  {
   "cell_type": "code",
   "execution_count": null,
   "id": "b6d340b0d40d29fc",
   "metadata": {},
   "outputs": [],
   "source": []
  }
 ],
 "metadata": {
  "kernelspec": {
   "display_name": "Python 3",
   "language": "python",
   "name": "python3"
  },
  "language_info": {
   "codemirror_mode": {
    "name": "ipython",
    "version": 3
   },
   "file_extension": ".py",
   "mimetype": "text/x-python",
   "name": "python",
   "nbconvert_exporter": "python",
   "pygments_lexer": "ipython3",
   "version": "3.8.17"
  }
 },
 "nbformat": 4,
 "nbformat_minor": 5
}
